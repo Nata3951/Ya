# https://wiki.yandex-team.ru/taxi/analytics/businessmodeling/

from business_models import hahn

dwh_df=hahn("""
SELECT 
    snap_date,
    SUM(bookings) as bookings,
FROM hahn.`home/praktikum/testing/analytics/dashboards/overview_monitor_practicum` 
GROUP BY snap_date
ORDER BY snap_date DESC""")
